{
 "cells": [
  {
   "cell_type": "code",
   "execution_count": 141,
   "metadata": {},
   "outputs": [],
   "source": [
    "from bs4 import BeautifulSoup\n",
    "import requests\n",
    "import pandas as pd\n",
    "import urllib\n",
    "import re\n",
    "import pymongo\n",
    "import googletrans\n",
    "from googletrans import Translator"
   ]
  },
  {
   "cell_type": "markdown",
   "metadata": {},
   "source": [
    "## Scraping"
   ]
  },
  {
   "cell_type": "code",
   "execution_count": 142,
   "metadata": {},
   "outputs": [],
   "source": [
    "def get_html(url):\n",
    "    result = requests.get(url)\n",
    "    return BeautifulSoup(result.text, \"html.parser\"), result.text\n",
    "\n",
    "def download_image(url, file_path, file_name):\n",
    "    full_path = file_path + file_name + '.jpg'\n",
    "    urllib.request.urlretrieve(url, full_path)"
   ]
  },
  {
   "cell_type": "code",
   "execution_count": 143,
   "metadata": {},
   "outputs": [],
   "source": [
    "def parse_listing(url=\"https://www.boot24.com/boot/1976-ketch-baarda-zeegrundel-8222682/\"):\n",
    "    html, source = get_html(url)\n",
    "\n",
    "    details = html.find(\"tbody\", class_=\"datatable-section\")\n",
    "    description = html.find(\"div\", class_=\"detail-description\").text\n",
    "\n",
    "    attributes = {}\n",
    "\n",
    "    for row in details.find_all(\"tr\"):\n",
    "        attribute_name = row.find(class_=\"datatable-title\").text\n",
    "        attribute_value = row.find(class_=\"datatable-value\").text\n",
    "\n",
    "        attributes[attribute_name] = attribute_value\n",
    "\n",
    "    \n",
    "    return description, attributes"
   ]
  },
  {
   "cell_type": "code",
   "execution_count": 166,
   "metadata": {},
   "outputs": [],
   "source": [
    "html, source = get_html(\"https://www.boot24.com/boote/typ-segelboote/seite-2/\")"
   ]
  },
  {
   "cell_type": "code",
   "execution_count": 169,
   "metadata": {},
   "outputs": [
    {
     "data": {
      "text/plain": [
       "'8426422'"
      ]
     },
     "execution_count": 169,
     "metadata": {},
     "output_type": "execute_result"
    }
   ],
   "source": [
    "id_ = html.find(class_=\"main-link\")[\"data-reporting-click-product-id\"]\n",
    "id_"
   ]
  },
  {
   "cell_type": "code",
   "execution_count": 171,
   "metadata": {},
   "outputs": [
    {
     "data": {
      "text/plain": [
       "'https://images.boatsgroup.com/resize/1/64/22/8426422_0_020820220758_1.jpg'"
      ]
     },
     "execution_count": 171,
     "metadata": {},
     "output_type": "execute_result"
    }
   ],
   "source": [
    "img_url = re.findall(r\"((https://images.boatsgroup\\.com/resize/\\d/\\d+/\\d+/\" + str(id_) + r\"_.+?)(jpg|png))\", source)\n",
    "img_url[0][0]"
   ]
  },
  {
   "cell_type": "code",
   "execution_count": 163,
   "metadata": {},
   "outputs": [
    {
     "name": "stdout",
     "output_type": "stream",
     "text": [
      "Scraping page 61\n",
      "Scraping page 62\n",
      "Scraping page 63\n",
      "Scraping page 64\n",
      "Scraping page 65\n",
      "Scraping page 66\n",
      "Scraping page 67\n",
      "Scraping page 68\n",
      "Scraping page 69\n",
      "Finished scraping\n"
     ]
    }
   ],
   "source": [
    "page = 1\n",
    "# id_ = 1\n",
    "listings = []\n",
    "\n",
    "while True:\n",
    "    url = f\"https://www.boot24.com/boote/typ-segelboote/seite-{page}/\"\n",
    "    page_html, page_source = get_html(url)\n",
    "\n",
    "    if page_html.find(class_=\"disabled next\"):\n",
    "        print(\"Finished scraping\")\n",
    "        break\n",
    "\n",
    "    print(f\"Scraping page {page}\")\n",
    "\n",
    "    for listing in page_html.find_all(\"li\", class_=\"listing-result listing-result-row\"):\n",
    "        name_ = listing.find(class_=\"name\").text\n",
    "        price = listing.find(class_=\"price\").text\n",
    "        location = listing.find(class_=\"location\").text\n",
    "        offered_by = listing.find(class_=\"offered-by\").text\n",
    "        link = listing.find(class_=\"main-link\")[\"href\"]\n",
    "        id_ = listing.find(class_=\"main-link\")[\"data-reporting-click-product-id\"]\n",
    "        # img_url = re.findall(r\"https://images.boatsgroup\\.com/resize.+?\" + str(id_) + r\".+?\\.jpg\", page_source)[0]\n",
    "        try:\n",
    "            img_url = re.findall(r\"((https://images.boatsgroup\\.com/resize/\\d/\\d+/\\d+/\" + str(id_) + r\"_.+?)(jpg|png))\", source)[0][0]\n",
    "        except:\n",
    "            img_url = \"\"\n",
    "\n",
    "        listing_url = f\"https://www.boot24.com{link}\"\n",
    "\n",
    "        # listing_html = get_html(listing_url)\n",
    "        # try:\n",
    "        #     img_url = listing.find(\"img\")[\"src\"]\n",
    "        if img_url != \"\":\n",
    "\n",
    "            download_image(img_url, \"images\\\\\", str(id_))\n",
    "        # except:\n",
    "        #     pass\n",
    "\n",
    "        description, attributes = parse_listing(listing_url)\n",
    "\n",
    "\n",
    "        listings.append({\n",
    "            \"name\":name_, \n",
    "            \"price\":price, \n",
    "            \"location\":location, \n",
    "            \"offerer\":offered_by, \n",
    "            \"link\":link, \n",
    "            \"id\":id_, \n",
    "            \"img_url\":img_url, \n",
    "            \"listing_url\":listing_url, \n",
    "            \"description\":description} \n",
    "            | attributes\n",
    "        )\n",
    "\n",
    "        # id_ +=1\n",
    "\n",
    "    page += 1"
   ]
  },
  {
   "cell_type": "code",
   "execution_count": 165,
   "metadata": {},
   "outputs": [],
   "source": [
    "x = pd.DataFrame(listings)"
   ]
  },
  {
   "cell_type": "markdown",
   "metadata": {},
   "source": [
    "## Data Preparation"
   ]
  },
  {
   "cell_type": "code",
   "execution_count": 160,
   "metadata": {},
   "outputs": [],
   "source": [
    "import translators as ts\n",
    "\n",
    "res = []\n",
    "\n",
    "for item in list(x.columns):\n",
    "    res .append(ts.google(item, from_language=\"auto\", to_language=\"en\"))"
   ]
  },
  {
   "cell_type": "markdown",
   "metadata": {},
   "source": []
  }
 ],
 "metadata": {
  "kernelspec": {
   "display_name": "Python 3.9.13 64-bit",
   "language": "python",
   "name": "python3"
  },
  "language_info": {
   "codemirror_mode": {
    "name": "ipython",
    "version": 3
   },
   "file_extension": ".py",
   "mimetype": "text/x-python",
   "name": "python",
   "nbconvert_exporter": "python",
   "pygments_lexer": "ipython3",
   "version": "3.9.13"
  },
  "orig_nbformat": 4,
  "vscode": {
   "interpreter": {
    "hash": "8f8cf99212f81ad0c4765861267244807ee1c18364846cdce387b28994a977ba"
   }
  }
 },
 "nbformat": 4,
 "nbformat_minor": 2
}
