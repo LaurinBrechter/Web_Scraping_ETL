{
 "cells": [
  {
   "cell_type": "code",
   "execution_count": 159,
   "metadata": {},
   "outputs": [],
   "source": [
    "from bs4 import BeautifulSoup\n",
    "import requests\n",
    "import pandas as pd\n",
    "import urllib\n",
    "import re\n",
    "import pymongo\n",
    "import googletrans\n",
    "from googletrans import Translator\n",
    "import numpy as np\n",
    "import geopy\n",
    "import translators as ts\n",
    "from geopy.geocoders import Nominatim \n",
    "geopy.geocoders.options.default_user_agent = \"my_cool_app\"\n",
    "from country_list import countries_for_language"
   ]
  },
  {
   "cell_type": "code",
   "execution_count": 211,
   "metadata": {},
   "outputs": [
    {
     "data": {
      "text/plain": [
       "'hello.'"
      ]
     },
     "execution_count": 211,
     "metadata": {},
     "output_type": "execute_result"
    }
   ],
   "source": []
  },
  {
   "cell_type": "markdown",
   "metadata": {},
   "source": [
    "## Scraping"
   ]
  },
  {
   "cell_type": "code",
   "execution_count": 2,
   "metadata": {},
   "outputs": [],
   "source": [
    "def get_html(url):\n",
    "    result = requests.get(url)\n",
    "    return BeautifulSoup(result.text, \"html.parser\"), result.text\n",
    "\n",
    "def download_image(url, file_path, file_name):\n",
    "    full_path = file_path + file_name + '.jpg'\n",
    "    urllib.request.urlretrieve(url, full_path)"
   ]
  },
  {
   "cell_type": "code",
   "execution_count": 3,
   "metadata": {},
   "outputs": [],
   "source": [
    "def parse_listing(url=\"https://www.boot24.com/boot/1976-ketch-baarda-zeegrundel-8222682/\"):\n",
    "    html, source = get_html(url)\n",
    "\n",
    "    details = html.find(\"tbody\", class_=\"datatable-section\")\n",
    "    description = html.find(\"div\", class_=\"detail-description\").text\n",
    "\n",
    "    attributes = {}\n",
    "\n",
    "    for row in details.find_all(\"tr\"):\n",
    "        attribute_name = row.find(class_=\"datatable-title\").text\n",
    "        attribute_value = row.find(class_=\"datatable-value\").text\n",
    "\n",
    "        attributes[attribute_name] = attribute_value\n",
    "\n",
    "    \n",
    "    return description, attributes"
   ]
  },
  {
   "cell_type": "code",
   "execution_count": null,
   "metadata": {},
   "outputs": [],
   "source": [
    "page = 1\n",
    "# id_ = 1\n",
    "listings = []\n",
    "\n",
    "while True:\n",
    "    url = f\"https://www.boot24.com/boote/typ-segelboote/seite-{page}/\"\n",
    "    page_html, page_source = get_html(url)\n",
    "\n",
    "    if page_html.find(class_=\"disabled next\"):\n",
    "        print(\"Finished scraping\")\n",
    "        break\n",
    "\n",
    "    print(f\"Scraping page {page}\")\n",
    "\n",
    "    for listing in page_html.find_all(\"li\", class_=\"listing-result listing-result-row\"):\n",
    "        name_ = listing.find(class_=\"name\").text\n",
    "        price = listing.find(class_=\"price\").text\n",
    "        location = listing.find(class_=\"location\").text\n",
    "        offered_by = listing.find(class_=\"offered-by\").text\n",
    "        link = listing.find(class_=\"main-link\")[\"href\"]\n",
    "        id_ = listing.find(class_=\"main-link\")[\"data-reporting-click-product-id\"]\n",
    "        # img_url = re.findall(r\"https://images.boatsgroup\\.com/resize.+?\" + str(id_) + r\".+?\\.jpg\", page_source)[0]\n",
    "        try:\n",
    "            img_url = re.findall(r\"((https://images.boatsgroup\\.com/resize/\\d/\\d+/\\d+/\" + str(id_) + r\"_.+?)(jpg|png))\", page_source)[0][0]\n",
    "            download_image(img_url, \"images\\\\\", str(id_))\n",
    "        except:\n",
    "            img_url = \"\"\n",
    "\n",
    "        listing_url = f\"https://www.boot24.com{link}\"\n",
    "\n",
    "        # listing_html = get_html(listing_url)\n",
    "        # try:\n",
    "        #     img_url = listing.find(\"img\")[\"src\"]\n",
    "        # if img_url != \"\":\n",
    "\n",
    "        # except:\n",
    "        #     pass\n",
    "\n",
    "        description, attributes = parse_listing(listing_url)\n",
    "\n",
    "\n",
    "        listings.append({\n",
    "            \"name\":name_, \n",
    "            \"price\":price, \n",
    "            \"location\":location, \n",
    "            \"offerer\":offered_by, \n",
    "            \"link\":link, \n",
    "            \"id\":id_, \n",
    "            \"img_url\":img_url, \n",
    "            \"listing_url\":listing_url, \n",
    "            \"description\":description} \n",
    "            | attributes\n",
    "        )\n",
    "\n",
    "        # id_ +=1\n",
    "\n",
    "    page += 1"
   ]
  },
  {
   "cell_type": "markdown",
   "metadata": {},
   "source": [
    "## Data Preparation"
   ]
  },
  {
   "cell_type": "code",
   "execution_count": 193,
   "metadata": {},
   "outputs": [],
   "source": [
    "df = pd.DataFrame(listings)\n",
    "# df.to_csv(\"data_raw.csv\")\n",
    "df.drop(columns=[\"listing_url\", \"link\", \"img_url\", \"listing_url\", \"Rumpfgarantie\", \"HIN\"], inplace=True)\n",
    "df = df.rename(columns={\"Jahr\":\"year\", \"Hersteller\":\"manufacturer\", \"Modell\":\"model\", \"Klasse\":\"category\", \"Länge\":\"length\", \"Treibstoff\":\"fuel_type\", \"Rumpfmaterial\":\"hull_material\", \"Rumpfform\":\"hull_shape\"})\n",
    "df.replace({\"Diesel\":\"diesel\", \"Anderes\":\"other\", \"Elektrisch\":\"electrical\", \"Benzin\":\"petrol\"}, inplace=True)\n",
    "df.replace({\"Stahl\":\"steel\", \"GFK / Fiberglass / Polyester\": \"GFK / fiberglas / polyester\", \"Ferrozement\":\"ferrocement\", \"Komposit\":\"composite\", \"Anderen Materialien\":\"other\", 'PVC (Kunststoff)':\"PVC\", \"Holz\":\"wood\"}, inplace=True)"
   ]
  },
  {
   "cell_type": "code",
   "execution_count": 194,
   "metadata": {},
   "outputs": [],
   "source": [
    "df = df.loc[df[\"price\"] != 'Preis auf Anfrage']"
   ]
  },
  {
   "cell_type": "code",
   "execution_count": 195,
   "metadata": {},
   "outputs": [
    {
     "name": "stderr",
     "output_type": "stream",
     "text": [
      "C:\\Users\\Lenovo\\AppData\\Local\\Temp\\ipykernel_10948\\1653832274.py:1: FutureWarning: The default value of regex will change from True to False in a future version. In addition, single character regular expressions will *not* be treated as literal strings when regex=True.\n",
      "  df[\"price\"] = df[\"price\"].str.replace(\".\", \"\").str.replace(\"€\", \"\").astype(float)\n"
     ]
    }
   ],
   "source": [
    "df[\"price\"] = df[\"price\"].str.replace(\".\", \"\").str.replace(\"€\", \"\").astype(float)\n",
    "df[\"length\"] = df[\"length\"].str.replace(\"m\", \"\").str.replace(\",\", \".\").astype(float)"
   ]
  },
  {
   "cell_type": "code",
   "execution_count": 196,
   "metadata": {},
   "outputs": [],
   "source": [
    "df.location = df.location.str.lower()"
   ]
  },
  {
   "cell_type": "code",
   "execution_count": 197,
   "metadata": {},
   "outputs": [],
   "source": [
    "countries_de = np.array([i[1].lower() for i in countries_for_language(\"de\")])\n",
    "countries = list(map(lambda x: x.lower(), ['Afghanistan', 'Aland Islands', 'Albania', 'Algeria', 'American Samoa', 'Andorra', 'Angola', 'Anguilla', 'Antarctica', 'Antigua and Barbuda', 'Argentina', 'Armenia', 'Aruba', 'Australia', 'Austria', 'Azerbaijan', 'Bahamas', 'Bahrain', 'Bangladesh', 'Barbados', 'Belarus', 'Belgium', 'Belize', 'Benin', 'Bermuda', 'Bhutan', 'Bolivia, Plurinational State of', 'Bonaire, Sint Eustatius and Saba', 'Bosnia and Herzegovina', 'Botswana', 'Bouvet Island', 'Brazil', 'British Indian Ocean Territory', 'Brunei Darussalam', 'Bulgaria', 'Burkina Faso', 'Burundi', 'Cambodia', 'Cameroon', 'Canada', 'Cape Verde', 'Cayman Islands', 'Central African Republic', 'Chad', 'Chile', 'China', 'Christmas Island', 'Cocos (Keeling) Islands', 'Colombia', 'Comoros', 'Congo', 'Congo, The Democratic Republic of the', 'Cook Islands', 'Costa Rica', \"Côte d'Ivoire\", 'Croatia', 'Cuba', 'Curaçao', 'Cyprus', 'Czech Republic', 'Denmark', 'Djibouti', 'Dominica', 'Dominican Republic', 'Ecuador', 'Egypt', 'El Salvador', 'Equatorial Guinea', 'Eritrea', 'Estonia', 'Ethiopia', 'Falkland Islands (Malvinas)', 'Faroe Islands', 'Fiji', 'Finland', 'France', 'French Guiana', 'French Polynesia', 'French Southern Territories', 'Gabon', 'Gambia', 'Georgia', 'Germany', 'Ghana', 'Gibraltar', 'Greece', 'Greenland', 'Grenada', 'Guadeloupe', 'Guam', 'Guatemala', 'Guernsey', 'Guinea', 'Guinea-Bissau', 'Guyana', 'Haiti', 'Heard Island and McDonald Islands', 'Holy See (Vatican City State)', 'Honduras', 'Hong Kong', 'Hungary', 'Iceland', 'India', 'Indonesia', 'Iran, Islamic Republic of', 'Iraq', 'Ireland', 'Isle of Man', 'Israel', 'Italy', 'Jamaica', 'Japan', 'Jersey', 'Jordan', 'Kazakhstan', 'Kenya', 'Kiribati', \"Korea, Democratic People's Republic of\", 'Korea, Republic of', 'Kuwait', 'Kyrgyzstan', \"Lao People's Democratic Republic\", 'Latvia', 'Lebanon', 'Lesotho', 'Liberia', 'Libya', 'Liechtenstein', 'Lithuania', 'Luxembourg', 'Macao', 'Macedonia, Republic of', 'Madagascar', 'Malawi', 'Malaysia', 'Maldives', 'Mali', 'Malta', 'Marshall Islands', 'Martinique', 'Mauritania', 'Mauritius', 'Mayotte', 'Mexico', 'Micronesia, Federated States of', 'Moldova, Republic of', 'Monaco', 'Mongolia', 'Montenegro', 'Montserrat', 'Morocco', 'Mozambique', 'Myanmar', 'Namibia', 'Nauru', 'Nepal', 'Netherlands', 'New Caledonia', 'New Zealand', 'Nicaragua', 'Niger', 'Nigeria', 'Niue', 'Norfolk Island', 'Northern Mariana Islands', 'Norway', 'Oman', 'Pakistan', 'Palau', 'Palestinian Territory, Occupied', 'Panama', 'Papua New Guinea', 'Paraguay', 'Peru', 'Philippines', 'Pitcairn', 'Poland', 'Portugal', 'Puerto Rico', 'Qatar', 'Réunion', 'Romania', 'Russian Federation', 'Rwanda', 'Saint Barthélemy', 'Saint Helena, Ascension and Tristan da Cunha', 'Saint Kitts and Nevis', 'Saint Lucia', 'Saint Martin (French part)', 'Saint Pierre and Miquelon', 'Saint Vincent and the Grenadines', 'Samoa', 'San Marino', 'Sao Tome and Principe', 'Saudi Arabia', 'Senegal', 'Serbia', 'Seychelles', 'Sierra Leone', 'Singapore', 'Sint Maarten (Dutch part)', 'Slovakia', 'Slovenia', 'Solomon Islands', 'Somalia', 'South Africa', 'South Georgia and the South Sandwich Islands', 'Spain', 'Sri Lanka', 'Sudan', 'Suriname', 'South Sudan', 'Svalbard and Jan Mayen', 'Swaziland', 'Sweden', 'Switzerland', 'Syrian Arab Republic', 'Taiwan, Province of China', 'Tajikistan', 'Tanzania, United Republic of', 'Thailand', 'Timor-Leste', 'Togo', 'Tokelau', 'Tonga', 'Trinidad and Tobago', 'Tunisia', 'Turkey', 'Turkmenistan', 'Turks and Caicos Islands', 'Tuvalu', 'Uganda', 'Ukraine', 'United Arab Emirates', 'United Kingdom', 'United States', 'United States Minor Outlying Islands', 'Uruguay', 'Uzbekistan', 'Vanuatu', 'Venezuela, Bolivarian Republic of', 'Viet Nam', 'Virgin Islands, British', 'Virgin Islands, U.S.', 'Wallis and Futuna', 'Yemen', 'Zambia', 'Zimbabwe']))"
   ]
  },
  {
   "cell_type": "markdown",
   "metadata": {},
   "source": [
    "## Translation"
   ]
  },
  {
   "cell_type": "code",
   "execution_count": 199,
   "metadata": {},
   "outputs": [],
   "source": [
    "nm = Nominatim()"
   ]
  },
  {
   "cell_type": "code",
   "execution_count": 200,
   "metadata": {},
   "outputs": [],
   "source": [
    "def get_country(x):\n",
    "\n",
    "    res = countries_de[np.isin(countries_de, x.split())]\n",
    "\n",
    "    if len(res) == 0:\n",
    "        return np.nan\n",
    "    else:\n",
    "        return res[0]"
   ]
  },
  {
   "cell_type": "code",
   "execution_count": 201,
   "metadata": {},
   "outputs": [],
   "source": [
    "df[\"country\"] = df[\"location\"].apply(get_country)\n",
    "df.loc[df[\"country\"] .isna(), \"country\"] = df.loc[df[\"country\"] .isna(), \"country\"].apply(lambda x: nm.geocode(x, language=\"de\")[0].split()[-1])"
   ]
  },
  {
   "cell_type": "code",
   "execution_count": 202,
   "metadata": {},
   "outputs": [],
   "source": [
    "df.country = df.country.str.lower()"
   ]
  },
  {
   "cell_type": "code",
   "execution_count": null,
   "metadata": {},
   "outputs": [],
   "source": [
    "translator = Translator()\n",
    "df[\"description\"] = df[\"description\"].apply(lambda x: translator.translate(x, dest=\"en\").text)"
   ]
  },
  {
   "cell_type": "code",
   "execution_count": 215,
   "metadata": {},
   "outputs": [],
   "source": [
    "x = translator.translate(list(df[\"description\"])) # 5m"
   ]
  },
  {
   "cell_type": "code",
   "execution_count": 218,
   "metadata": {},
   "outputs": [],
   "source": [
    "df_ = df.copy()\n",
    "df_[\"description\"] = [i.text for i in x]"
   ]
  },
  {
   "cell_type": "code",
   "execution_count": 221,
   "metadata": {},
   "outputs": [],
   "source": [
    "df_[\"country\"] = [i.text for i in translator.translate(list(df[\"country\"]))]"
   ]
  },
  {
   "cell_type": "code",
   "execution_count": 225,
   "metadata": {},
   "outputs": [],
   "source": [
    "df_[\"country\"] = df_.country.replace({\"deutschland\":\"germany\"}).str.lower()"
   ]
  },
  {
   "cell_type": "code",
   "execution_count": 230,
   "metadata": {},
   "outputs": [],
   "source": [
    "df_.to_csv(\"data_clean.csv\")"
   ]
  },
  {
   "cell_type": "code",
   "execution_count": null,
   "metadata": {},
   "outputs": [],
   "source": []
  }
 ],
 "metadata": {
  "kernelspec": {
   "display_name": "Python 3.9.13 64-bit",
   "language": "python",
   "name": "python3"
  },
  "language_info": {
   "codemirror_mode": {
    "name": "ipython",
    "version": 3
   },
   "file_extension": ".py",
   "mimetype": "text/x-python",
   "name": "python",
   "nbconvert_exporter": "python",
   "pygments_lexer": "ipython3",
   "version": "3.9.13"
  },
  "orig_nbformat": 4,
  "vscode": {
   "interpreter": {
    "hash": "8f8cf99212f81ad0c4765861267244807ee1c18364846cdce387b28994a977ba"
   }
  }
 },
 "nbformat": 4,
 "nbformat_minor": 2
}
