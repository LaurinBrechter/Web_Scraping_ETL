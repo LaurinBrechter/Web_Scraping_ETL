{
 "cells": [
  {
   "cell_type": "code",
   "execution_count": null,
   "metadata": {},
   "outputs": [],
   "source": [
    "from bs4 import BeautifulSoup\n",
    "import requests\n",
    "import pandas as pd\n",
    "import re\n",
    "import os\n",
    "import urllib.request\n",
    "import numpy as np\n",
    "\n",
    "import PyPDF2\n",
    "import fitz # PyMuPDF library"
   ]
  },
  {
   "cell_type": "code",
   "execution_count": 3,
   "metadata": {},
   "outputs": [],
   "source": [
    "# function to get the BS object of an html website.\n",
    "def get_html(url):\n",
    "    result = requests.get(url)\n",
    "    return BeautifulSoup(result.text, \"html.parser\")"
   ]
  },
  {
   "cell_type": "code",
   "execution_count": 143,
   "metadata": {},
   "outputs": [],
   "source": [
    "df = pd.DataFrame(columns=[\"title\", \"rating\", \"no_ratings\", \"time_created\", \"comments\"])"
   ]
  },
  {
   "cell_type": "code",
   "execution_count": 4,
   "metadata": {},
   "outputs": [],
   "source": [
    "soup = get_html(\"https://www.chefkoch.de/rezepte/3207211477346212/Schnelles-Spinat-Kichererbsen-Gericht.html\")"
   ]
  },
  {
   "cell_type": "code",
   "execution_count": 145,
   "metadata": {},
   "outputs": [],
   "source": [
    "ids = np.arange(0,100_000)\n",
    "np.random.shuffle(ids)"
   ]
  },
  {
   "cell_type": "code",
   "execution_count": 149,
   "metadata": {},
   "outputs": [],
   "source": [
    "user_ids = {}\n",
    "\n",
    "def parse_recipe_website(page_html, running_id = 0):\n",
    "\n",
    "    article = page_html.find(class_=\"ds-container rds\").find(\"article\")\n",
    "\n",
    "    date_raw = article.find(class_=\"recipe-date rds-recipe-meta__badge\").text\n",
    "    date_created = re.findall(r\"\\d{2}\\.\\d{2}\\.\\d{4}\", date_raw)[0]\n",
    "\n",
    "    title = article.find(\"h1\").text\n",
    "    avg_rating = float(page_html.find(class_=\"ds-rating-avg\").find(\"strong\").text)\n",
    "    rating_count = int(page_html.find(class_=\"ds-rating-count\").find(\"span\").find_all(\"span\")[1].text)\n",
    "\n",
    "    comments = page_html.find_all(class_=\"ds-mb comment-item qa-comment\")\n",
    "    comments_parsed = {}\n",
    "\n",
    "    i = running_id\n",
    "\n",
    "    for comment in comments:\n",
    "        comment_text = comment.find(\"p\").text\n",
    "        user = comment.find(class_=\"ds-h4\").find(\"a\").text.strip()\n",
    "\n",
    "        if user in user_ids:\n",
    "            comments_parsed[user_ids[user]].append(comment_text)\n",
    "        else:\n",
    "            user_ids[user] = ids[i]\n",
    "            i += 1\n",
    "            comments_parsed[user_ids[user]] = [comment_text]\n",
    "\n",
    "\n",
    "    return title, avg_rating, rating_count, date_created, comments_parsed, i"
   ]
  },
  {
   "cell_type": "code",
   "execution_count": 150,
   "metadata": {},
   "outputs": [
    {
     "name": "stderr",
     "output_type": "stream",
     "text": [
      "C:\\Users\\Lenovo\\AppData\\Local\\Temp\\ipykernel_17352\\923221439.py:1: FutureWarning: The frame.append method is deprecated and will be removed from pandas in a future version. Use pandas.concat instead.\n",
      "  df.append(dict(zip(df.columns, parse_recipe_website(soup))), ignore_index=True)\n"
     ]
    },
    {
     "data": {
      "text/html": [
       "<div>\n",
       "<style scoped>\n",
       "    .dataframe tbody tr th:only-of-type {\n",
       "        vertical-align: middle;\n",
       "    }\n",
       "\n",
       "    .dataframe tbody tr th {\n",
       "        vertical-align: top;\n",
       "    }\n",
       "\n",
       "    .dataframe thead th {\n",
       "        text-align: right;\n",
       "    }\n",
       "</style>\n",
       "<table border=\"1\" class=\"dataframe\">\n",
       "  <thead>\n",
       "    <tr style=\"text-align: right;\">\n",
       "      <th></th>\n",
       "      <th>title</th>\n",
       "      <th>rating</th>\n",
       "      <th>no_ratings</th>\n",
       "      <th>time_created</th>\n",
       "      <th>comments</th>\n",
       "    </tr>\n",
       "  </thead>\n",
       "  <tbody>\n",
       "    <tr>\n",
       "      <th>0</th>\n",
       "      <td>Schnelles Spinat-Kichererbsen-Gericht</td>\n",
       "      <td>4.6</td>\n",
       "      <td>500</td>\n",
       "      <td>28.10.2016</td>\n",
       "      <td>{97547: ['Unglaublich lecker!!!'], 7702: ['Seh...</td>\n",
       "    </tr>\n",
       "  </tbody>\n",
       "</table>\n",
       "</div>"
      ],
      "text/plain": [
       "                                   title rating no_ratings time_created  \\\n",
       "0  Schnelles Spinat-Kichererbsen-Gericht    4.6        500   28.10.2016   \n",
       "\n",
       "                                            comments  \n",
       "0  {97547: ['Unglaublich lecker!!!'], 7702: ['Seh...  "
      ]
     },
     "execution_count": 150,
     "metadata": {},
     "output_type": "execute_result"
    }
   ],
   "source": [
    "df.append(dict(zip(df.columns, parse_recipe_website(soup))), ignore_index=True)"
   ]
  },
  {
   "cell_type": "code",
   "execution_count": null,
   "metadata": {},
   "outputs": [],
   "source": []
  }
 ],
 "metadata": {
  "kernelspec": {
   "display_name": "Python 3.9.13 64-bit",
   "language": "python",
   "name": "python3"
  },
  "language_info": {
   "codemirror_mode": {
    "name": "ipython",
    "version": 3
   },
   "file_extension": ".py",
   "mimetype": "text/x-python",
   "name": "python",
   "nbconvert_exporter": "python",
   "pygments_lexer": "ipython3",
   "version": "3.9.13"
  },
  "orig_nbformat": 4,
  "vscode": {
   "interpreter": {
    "hash": "8f8cf99212f81ad0c4765861267244807ee1c18364846cdce387b28994a977ba"
   }
  }
 },
 "nbformat": 4,
 "nbformat_minor": 2
}
