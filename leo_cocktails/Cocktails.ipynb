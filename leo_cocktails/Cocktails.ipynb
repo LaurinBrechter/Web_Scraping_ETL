{
 "cells": [
  {
   "cell_type": "markdown",
   "metadata": {},
   "source": [
    "### Context\n",
    "\n",
    "- scrape the most famous cocktails from the years 2001-2022 from the website LEOS's Bar with their respective ingredient list.\n",
    "- can also contain seasonality because we have information about each month.\n",
    "- http://bar.leo.org/hl/"
   ]
  },
  {
   "cell_type": "code",
   "execution_count": 116,
   "metadata": {},
   "outputs": [],
   "source": [
    "from bs4 import BeautifulSoup\n",
    "import requests\n",
    "import pandas as pd\n",
    "import numpy as np\n",
    "import re"
   ]
  },
  {
   "cell_type": "code",
   "execution_count": 2,
   "metadata": {},
   "outputs": [],
   "source": [
    "def get_html(html):\n",
    "    return BeautifulSoup(requests.get(html).text, \"html.parser\")"
   ]
  },
  {
   "cell_type": "code",
   "execution_count": 3,
   "metadata": {},
   "outputs": [],
   "source": [
    "# all the URLS for the years have the format \"http://bar.leo.org/hl/20XX\"\n",
    "# create a list with URLS from 2001 to 2022\n",
    "# quick and dirty solution:\n",
    "year_urls = [\"http://bar.leo.org/hl/200\" + str(i) for i in range(1,10)] + [\"http://bar.leo.org/hl/20\" + str(i) for i in range(10,23)]"
   ]
  },
  {
   "cell_type": "code",
   "execution_count": null,
   "metadata": {},
   "outputs": [],
   "source": [
    "tables = get_html(\"http://bar.leo.org/hl/2001\")(\"table\")"
   ]
  },
  {
   "cell_type": "code",
   "execution_count": 140,
   "metadata": {},
   "outputs": [],
   "source": [
    "def table_to_df(table_html, year):\n",
    "    \n",
    "    # instantiate lists so we can append our information to them.\n",
    "    place = []\n",
    "    name = []\n",
    "    visitors = []\n",
    "\n",
    "    # the header is the first row of the table\n",
    "    header = table_html(\"tr\")[0].text\n",
    "    \n",
    "    month = header.split()[-1]\n",
    "\n",
    "    table_contents = table_html(\"td\")[3:-3]\n",
    "    \n",
    "    for i in range(0, len(table_contents), 3):\n",
    "        # place is in the first, name in the second and the number of visitors in the third row.\n",
    "        place.append(table_contents[i].text)\n",
    "        name.append(table_contents[i+1].text)\n",
    "        visitors.append(table_contents[i+2].text)\n",
    "    \n",
    "    # make a DataFrame out of the lists with additional information about the month and year.\n",
    "    info_dict = {\"name\":name, \"visitors\":visitors, \"place\":place, \"month\":[month for i in range(len(place))], \"year\":[year for i in range(len(place))]}\n",
    "    return pd.DataFrame(info_dict)"
   ]
  },
  {
   "cell_type": "code",
   "execution_count": 135,
   "metadata": {},
   "outputs": [],
   "source": [
    "def scrape(year_urls):\n",
    "    \n",
    "    # initiate an empty dataframe to which we will concatenate the results\n",
    "    df = pd.DataFrame(columns=[\"place\", \"name\", \"year\", \"month\", \"visitors\"])\n",
    "    \n",
    "    # go through all the websites for the respective years\n",
    "    for url in year_urls:\n",
    "        year = re.split(r\"/\", url)[-1]\n",
    "        \n",
    "        # get all the relevant tables from the website\n",
    "        tables = get_html(url)(\"table\")[2:-2]\n",
    "        \n",
    "        # get the results from the tables and concatenate them\n",
    "        for table in tables:\n",
    "            df = pd.concat([df, table_to_df(table, year)])\n",
    "    \n",
    "    return df"
   ]
  },
  {
   "cell_type": "code",
   "execution_count": 137,
   "metadata": {},
   "outputs": [
    {
     "name": "stdout",
     "output_type": "stream",
     "text": [
      "260\n"
     ]
    }
   ],
   "source": [
    "data = scrape(year_urls)"
   ]
  },
  {
   "cell_type": "code",
   "execution_count": 146,
   "metadata": {},
   "outputs": [],
   "source": [
    "data_mod = data.copy()\n",
    "data_mod[\"month\"] = data_mod[\"month\"].where(data_mod[\"month\"] != \"PlatzDrinkBesucher\", \"total\")"
   ]
  },
  {
   "cell_type": "code",
   "execution_count": 148,
   "metadata": {},
   "outputs": [],
   "source": [
    "data_mod.to_csv(\"data.csv\")"
   ]
  },
  {
   "cell_type": "code",
   "execution_count": null,
   "metadata": {},
   "outputs": [],
   "source": []
  }
 ],
 "metadata": {
  "interpreter": {
   "hash": "93ff2fb3ab55f45baf9b992255903249eaebee6bb8e37ed653eb50e096a7d927"
  },
  "kernelspec": {
   "display_name": "Python 3.8.10 64-bit",
   "language": "python",
   "name": "python3"
  },
  "language_info": {
   "codemirror_mode": {
    "name": "ipython",
    "version": 3
   },
   "file_extension": ".py",
   "mimetype": "text/x-python",
   "name": "python",
   "nbconvert_exporter": "python",
   "pygments_lexer": "ipython3",
   "version": "3.8.10"
  },
  "orig_nbformat": 4
 },
 "nbformat": 4,
 "nbformat_minor": 2
}
